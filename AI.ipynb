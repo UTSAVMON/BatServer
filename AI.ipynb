{
  "nbformat": 4,
  "nbformat_minor": 0,
  "metadata": {
    "colab": {
      "provenance": [],
      "authorship_tag": "ABX9TyNYWXi7tov7PoGJzuWNXtwO",
      "include_colab_link": true
    },
    "kernelspec": {
      "name": "python3",
      "display_name": "Python 3"
    },
    "language_info": {
      "name": "python"
    }
  },
  "cells": [
    {
      "cell_type": "markdown",
      "metadata": {
        "id": "view-in-github",
        "colab_type": "text"
      },
      "source": [
        "<a href=\"https://colab.research.google.com/github/UTSAVMON/BatServer/blob/2nd/AI.ipynb\" target=\"_parent\"><img src=\"https://colab.research.google.com/assets/colab-badge.svg\" alt=\"Open In Colab\"/></a>"
      ]
    },
    {
      "cell_type": "code",
      "execution_count": null,
      "metadata": {
        "colab": {
          "base_uri": "https://localhost:8080/"
        },
        "id": "YO8n2T7Lc8xH",
        "outputId": "3e9bc469-6a3b-4fb4-f4fa-63e566f993af"
      },
      "outputs": [
        {
          "output_type": "stream",
          "name": "stdout",
          "text": [
            "0.4755187181573814\n"
          ]
        }
      ],
      "source": [
        "import math\n",
        "def sigmoid(x):\n",
        "  return(1/(1+math.exp(-x)))\n",
        "\n",
        "W14=0.2\n",
        "W15=(-0.3)\n",
        "W24=0.4\n",
        "W25=0.1\n",
        "W34=(-0.5)\n",
        "W35=0.2\n",
        "W46=(-0.3)\n",
        "W56=(-0.2)\n",
        "\n",
        "theta4=(-0.5)\n",
        "theta5=(0.2)\n",
        "theta6=(0.1)\n",
        "\n",
        "X1=1\n",
        "X2=0\n",
        "X3=1\n",
        "\n",
        "Z4=X1*W14+X2*W24+X3*W34+theta4\n",
        "Y4=sigmoid(Z4)\n",
        "\n",
        "Z5=X1*W15+X2*W25+X3*W35+theta5\n",
        "Y5=sigmoid(Z5)\n",
        "\n",
        "Z6=Y4*W46+Y5*W56+theta6\n",
        "Y6=sigmoid(Z6)\n",
        "\n",
        "print(Y6)"
      ]
    },
    {
      "cell_type": "code",
      "source": [
        "import math\n",
        "def sigmoid(x):\n",
        "  return(1/(1+math.exp(-x)))\n",
        "\n",
        "def sigmoid_derivation(x):\n",
        "  return(sigmoid(x)*(1-sigmoid(x)))\n",
        "\n",
        "W14=0.2\n",
        "W15=(-0.3)\n",
        "W24=0.4\n",
        "W25=0.1\n",
        "W34=(-0.5)\n",
        "W35=0.2\n",
        "W46=(-0.3)\n",
        "W56=(-0.2)\n",
        "\n",
        "theta4=(-0.5)\n",
        "theta5=(0.2)\n",
        "theta6=(0.1)\n",
        "\n",
        "X1=1\n",
        "X2=0\n",
        "X3=1\n",
        "target_output=1\n",
        "\n",
        "learning_rate= 0.9\n",
        "\n",
        "Z4=X1*W14+X2*W24+X3*W34+theta4\n",
        "Y4=sigmoid(Z4)\n",
        "\n",
        "Z5=X1*W15+X2*W25+X3*W35+theta5\n",
        "Y5=sigmoid(Z5)\n",
        "\n",
        "Z6=Y4*W46+Y5*W56+theta6\n",
        "Y6=sigmoid(Z6)\n",
        "\n",
        "print(Y6)"
      ],
      "metadata": {
        "colab": {
          "base_uri": "https://localhost:8080/"
        },
        "id": "x8tLOvsBeIKH",
        "outputId": "ac12520f-767a-499a-801c-da11eca38ee0"
      },
      "execution_count": null,
      "outputs": [
        {
          "output_type": "stream",
          "name": "stdout",
          "text": [
            "0.4755187181573814\n"
          ]
        }
      ]
    },
    {
      "cell_type": "code",
      "source": [
        "r=0.9\n",
        "while True:\n",
        "  import math\n",
        "  def sigmoid(x):\n",
        "    return (1/(1+math.exp(-x)))\n",
        "\n",
        "  def sigmoid_derivative(x):\n",
        "    return(sigmoid(x)*(1-sigmoid(x)))\n",
        "\n",
        "  W14=0.2\n",
        "  W15=-0.3\n",
        "  W24=0.4\n",
        "  W25=0.1\n",
        "  W34=-0.5\n",
        "  W35=0.2\n",
        "  W46=-0.3\n",
        "  W56=-0.2\n",
        "\n",
        ""
      ],
      "metadata": {
        "colab": {
          "base_uri": "https://localhost:8080/"
        },
        "id": "qZHl8LAZeITT",
        "outputId": "492f4809-7e35-47a3-b6e5-9b6b1a5f16d7"
      },
      "execution_count": null,
      "outputs": [
        {
          "output_type": "stream",
          "name": "stdout",
          "text": [
            "0.515247950984996\n"
          ]
        }
      ]
    },
    {
      "cell_type": "code",
      "source": [],
      "metadata": {
        "colab": {
          "base_uri": "https://localhost:8080/"
        },
        "id": "RXDO6xXMeIdC",
        "outputId": "4b59b037-d83c-418b-a447-a0579e58b142"
      },
      "execution_count": null,
      "outputs": [
        {
          "output_type": "stream",
          "name": "stdout",
          "text": [
            "DFS traversal path: A->B->C->D->F->E\n"
          ]
        }
      ]
    },
    {
      "cell_type": "code",
      "source": [],
      "metadata": {
        "id": "Nb3HSCDAeGcU"
      },
      "execution_count": null,
      "outputs": []
    }
  ]
}